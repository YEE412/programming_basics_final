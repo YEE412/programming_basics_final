{
 "cells": [
  {
   "cell_type": "code",
   "execution_count": 1,
   "id": "c67bc079",
   "metadata": {},
   "outputs": [],
   "source": [
    "import math\n",
    "import numpy as np\n",
    "import pandas as pd\n",
    "import seaborn as sns\n",
    "\n",
    "import matplotlib\n",
    "import matplotlib.pyplot as plt\n",
    "\n",
    "import sklearn\n",
    "from sklearn import preprocessing\n",
    "from sklearn.decomposition import PCA\n",
    "from sklearn.linear_model import Ridge\n",
    "from sklearn.model_selection import cross_val_score\n",
    "from sklearn.metrics import mean_absolute_error\n",
    "\n",
    "import statsmodels.api as sm"
   ]
  },
  {
   "cell_type": "code",
   "execution_count": 2,
   "id": "1c59d95a",
   "metadata": {},
   "outputs": [
    {
     "name": "stdout",
     "output_type": "stream",
     "text": [
      "uname_result(system='Windows', node='DESKTOP-C052PDI', release='10', version='10.0.19044', machine='AMD64')\n",
      "numpy version: 1.22.4\n",
      "pandas version: 1.4.2\n",
      "seaborn version: 0.11.2\n",
      "matplotlib version: 3.5.2\n",
      "sklearn version: 1.1.1\n",
      "sklearn version: 0.13.2\n"
     ]
    }
   ],
   "source": [
    "import platform\n",
    "#运行环境\n",
    "print(platform.uname())\n",
    "\n",
    "#numpy版本\n",
    "print(\"numpy version:\",np.__version__)\n",
    "#pandas版本\n",
    "print(\"pandas version:\",pd.__version__)\n",
    "#seaborn版本\n",
    "print(\"seaborn version:\",sns.__version__)\n",
    "#matplotlib版本\n",
    "print(\"matplotlib version:\",matplotlib.__version__)\n",
    "#sklearn版本\n",
    "print(\"sklearn version:\",sklearn.__version__)\n",
    "#statsmodels版本\n",
    "print(\"sklearn version:\",sm.__version__)"
   ]
  },
  {
   "cell_type": "code",
   "execution_count": 3,
   "id": "c2570838",
   "metadata": {},
   "outputs": [],
   "source": [
    "#读取数据\n",
    "df_2011 = pd.read_csv('gt_2011.csv')\n",
    "df_2012 = pd.read_csv('gt_2012.csv')\n",
    "df_2013 = pd.read_csv('gt_2013.csv')\n",
    "df_2014 = pd.read_csv('gt_2014.csv')\n",
    "df_2015 = pd.read_csv('gt_2015.csv')\n",
    "\n",
    "#前3年的数据用作训练集、后两年的数据用作验证集\n",
    "df = pd.concat([df_2011,df_2012,df_2013],ignore_index=True)\n",
    "df_validation = pd.concat([df_2014,df_2015],ignore_index=True)"
   ]
  },
  {
   "cell_type": "code",
   "execution_count": 4,
   "id": "6487d9cb",
   "metadata": {},
   "outputs": [
    {
     "data": {
      "text/html": [
       "<div>\n",
       "<style scoped>\n",
       "    .dataframe tbody tr th:only-of-type {\n",
       "        vertical-align: middle;\n",
       "    }\n",
       "\n",
       "    .dataframe tbody tr th {\n",
       "        vertical-align: top;\n",
       "    }\n",
       "\n",
       "    .dataframe thead th {\n",
       "        text-align: right;\n",
       "    }\n",
       "</style>\n",
       "<table border=\"1\" class=\"dataframe\">\n",
       "  <thead>\n",
       "    <tr style=\"text-align: right;\">\n",
       "      <th></th>\n",
       "      <th>AT</th>\n",
       "      <th>AP</th>\n",
       "      <th>AH</th>\n",
       "      <th>AFDP</th>\n",
       "      <th>GTEP</th>\n",
       "      <th>TIT</th>\n",
       "      <th>TAT</th>\n",
       "      <th>TEY</th>\n",
       "      <th>CDP</th>\n",
       "      <th>CO</th>\n",
       "      <th>NOX</th>\n",
       "    </tr>\n",
       "  </thead>\n",
       "  <tbody>\n",
       "    <tr>\n",
       "      <th>0</th>\n",
       "      <td>4.5878</td>\n",
       "      <td>1018.7</td>\n",
       "      <td>83.675</td>\n",
       "      <td>3.5758</td>\n",
       "      <td>23.979</td>\n",
       "      <td>1086.2</td>\n",
       "      <td>549.83</td>\n",
       "      <td>134.67</td>\n",
       "      <td>11.898</td>\n",
       "      <td>0.32663</td>\n",
       "      <td>81.952</td>\n",
       "    </tr>\n",
       "    <tr>\n",
       "      <th>1</th>\n",
       "      <td>4.2932</td>\n",
       "      <td>1018.3</td>\n",
       "      <td>84.235</td>\n",
       "      <td>3.5709</td>\n",
       "      <td>23.951</td>\n",
       "      <td>1086.1</td>\n",
       "      <td>550.05</td>\n",
       "      <td>134.67</td>\n",
       "      <td>11.892</td>\n",
       "      <td>0.44784</td>\n",
       "      <td>82.377</td>\n",
       "    </tr>\n",
       "    <tr>\n",
       "      <th>2</th>\n",
       "      <td>3.9045</td>\n",
       "      <td>1018.4</td>\n",
       "      <td>84.858</td>\n",
       "      <td>3.5828</td>\n",
       "      <td>23.990</td>\n",
       "      <td>1086.5</td>\n",
       "      <td>550.19</td>\n",
       "      <td>135.10</td>\n",
       "      <td>12.042</td>\n",
       "      <td>0.45144</td>\n",
       "      <td>83.776</td>\n",
       "    </tr>\n",
       "    <tr>\n",
       "      <th>3</th>\n",
       "      <td>3.7436</td>\n",
       "      <td>1018.3</td>\n",
       "      <td>85.434</td>\n",
       "      <td>3.5808</td>\n",
       "      <td>23.911</td>\n",
       "      <td>1086.5</td>\n",
       "      <td>550.17</td>\n",
       "      <td>135.03</td>\n",
       "      <td>11.990</td>\n",
       "      <td>0.23107</td>\n",
       "      <td>82.505</td>\n",
       "    </tr>\n",
       "    <tr>\n",
       "      <th>4</th>\n",
       "      <td>3.7516</td>\n",
       "      <td>1017.8</td>\n",
       "      <td>85.182</td>\n",
       "      <td>3.5781</td>\n",
       "      <td>23.917</td>\n",
       "      <td>1085.9</td>\n",
       "      <td>550.00</td>\n",
       "      <td>134.67</td>\n",
       "      <td>11.910</td>\n",
       "      <td>0.26747</td>\n",
       "      <td>82.028</td>\n",
       "    </tr>\n",
       "  </tbody>\n",
       "</table>\n",
       "</div>"
      ],
      "text/plain": [
       "       AT      AP      AH    AFDP    GTEP     TIT     TAT     TEY     CDP  \\\n",
       "0  4.5878  1018.7  83.675  3.5758  23.979  1086.2  549.83  134.67  11.898   \n",
       "1  4.2932  1018.3  84.235  3.5709  23.951  1086.1  550.05  134.67  11.892   \n",
       "2  3.9045  1018.4  84.858  3.5828  23.990  1086.5  550.19  135.10  12.042   \n",
       "3  3.7436  1018.3  85.434  3.5808  23.911  1086.5  550.17  135.03  11.990   \n",
       "4  3.7516  1017.8  85.182  3.5781  23.917  1085.9  550.00  134.67  11.910   \n",
       "\n",
       "        CO     NOX  \n",
       "0  0.32663  81.952  \n",
       "1  0.44784  82.377  \n",
       "2  0.45144  83.776  \n",
       "3  0.23107  82.505  \n",
       "4  0.26747  82.028  "
      ]
     },
     "execution_count": 4,
     "metadata": {},
     "output_type": "execute_result"
    }
   ],
   "source": [
    "df.head()"
   ]
  },
  {
   "cell_type": "code",
   "execution_count": 5,
   "id": "15e24755",
   "metadata": {
    "scrolled": false
   },
   "outputs": [
    {
     "data": {
      "text/html": [
       "<div>\n",
       "<style scoped>\n",
       "    .dataframe tbody tr th:only-of-type {\n",
       "        vertical-align: middle;\n",
       "    }\n",
       "\n",
       "    .dataframe tbody tr th {\n",
       "        vertical-align: top;\n",
       "    }\n",
       "\n",
       "    .dataframe thead th {\n",
       "        text-align: right;\n",
       "    }\n",
       "</style>\n",
       "<table border=\"1\" class=\"dataframe\">\n",
       "  <thead>\n",
       "    <tr style=\"text-align: right;\">\n",
       "      <th></th>\n",
       "      <th>AT</th>\n",
       "      <th>AP</th>\n",
       "      <th>AH</th>\n",
       "      <th>AFDP</th>\n",
       "      <th>GTEP</th>\n",
       "      <th>TIT</th>\n",
       "      <th>TAT</th>\n",
       "      <th>TEY</th>\n",
       "      <th>CDP</th>\n",
       "      <th>CO</th>\n",
       "      <th>NOX</th>\n",
       "    </tr>\n",
       "  </thead>\n",
       "  <tbody>\n",
       "    <tr>\n",
       "      <th>count</th>\n",
       "      <td>22191.000000</td>\n",
       "      <td>22191.000000</td>\n",
       "      <td>22191.000000</td>\n",
       "      <td>22191.000000</td>\n",
       "      <td>22191.000000</td>\n",
       "      <td>22191.000000</td>\n",
       "      <td>22191.000000</td>\n",
       "      <td>22191.000000</td>\n",
       "      <td>22191.000000</td>\n",
       "      <td>22191.000000</td>\n",
       "      <td>22191.000000</td>\n",
       "    </tr>\n",
       "    <tr>\n",
       "      <th>mean</th>\n",
       "      <td>17.712247</td>\n",
       "      <td>1012.812607</td>\n",
       "      <td>79.555224</td>\n",
       "      <td>4.037750</td>\n",
       "      <td>25.317873</td>\n",
       "      <td>1083.080280</td>\n",
       "      <td>545.520170</td>\n",
       "      <td>133.537393</td>\n",
       "      <td>12.060208</td>\n",
       "      <td>2.214390</td>\n",
       "      <td>68.776529</td>\n",
       "    </tr>\n",
       "    <tr>\n",
       "      <th>std</th>\n",
       "      <td>7.352789</td>\n",
       "      <td>6.396588</td>\n",
       "      <td>13.915018</td>\n",
       "      <td>0.810223</td>\n",
       "      <td>4.234147</td>\n",
       "      <td>16.840765</td>\n",
       "      <td>7.708708</td>\n",
       "      <td>16.026107</td>\n",
       "      <td>1.114265</td>\n",
       "      <td>2.295746</td>\n",
       "      <td>11.036231</td>\n",
       "    </tr>\n",
       "    <tr>\n",
       "      <th>min</th>\n",
       "      <td>0.289850</td>\n",
       "      <td>985.850000</td>\n",
       "      <td>27.504000</td>\n",
       "      <td>2.087400</td>\n",
       "      <td>17.878000</td>\n",
       "      <td>1000.800000</td>\n",
       "      <td>512.450000</td>\n",
       "      <td>100.170000</td>\n",
       "      <td>9.875400</td>\n",
       "      <td>0.000388</td>\n",
       "      <td>27.765000</td>\n",
       "    </tr>\n",
       "    <tr>\n",
       "      <th>25%</th>\n",
       "      <td>11.664500</td>\n",
       "      <td>1008.800000</td>\n",
       "      <td>70.294500</td>\n",
       "      <td>3.449850</td>\n",
       "      <td>22.736000</td>\n",
       "      <td>1074.600000</td>\n",
       "      <td>542.600000</td>\n",
       "      <td>124.260000</td>\n",
       "      <td>11.395000</td>\n",
       "      <td>0.995375</td>\n",
       "      <td>61.548000</td>\n",
       "    </tr>\n",
       "    <tr>\n",
       "      <th>50%</th>\n",
       "      <td>17.739000</td>\n",
       "      <td>1012.400000</td>\n",
       "      <td>82.781000</td>\n",
       "      <td>4.068800</td>\n",
       "      <td>24.989000</td>\n",
       "      <td>1088.100000</td>\n",
       "      <td>549.900000</td>\n",
       "      <td>133.770000</td>\n",
       "      <td>12.001000</td>\n",
       "      <td>1.524200</td>\n",
       "      <td>67.096000</td>\n",
       "    </tr>\n",
       "    <tr>\n",
       "      <th>75%</th>\n",
       "      <td>23.657000</td>\n",
       "      <td>1016.700000</td>\n",
       "      <td>90.532000</td>\n",
       "      <td>4.451400</td>\n",
       "      <td>26.839000</td>\n",
       "      <td>1095.300000</td>\n",
       "      <td>550.050000</td>\n",
       "      <td>138.645000</td>\n",
       "      <td>12.443500</td>\n",
       "      <td>2.542400</td>\n",
       "      <td>74.572000</td>\n",
       "    </tr>\n",
       "    <tr>\n",
       "      <th>max</th>\n",
       "      <td>34.929000</td>\n",
       "      <td>1034.200000</td>\n",
       "      <td>100.200000</td>\n",
       "      <td>7.610600</td>\n",
       "      <td>37.402000</td>\n",
       "      <td>1100.800000</td>\n",
       "      <td>550.610000</td>\n",
       "      <td>174.610000</td>\n",
       "      <td>15.081000</td>\n",
       "      <td>44.103000</td>\n",
       "      <td>119.910000</td>\n",
       "    </tr>\n",
       "  </tbody>\n",
       "</table>\n",
       "</div>"
      ],
      "text/plain": [
       "                 AT            AP            AH          AFDP          GTEP  \\\n",
       "count  22191.000000  22191.000000  22191.000000  22191.000000  22191.000000   \n",
       "mean      17.712247   1012.812607     79.555224      4.037750     25.317873   \n",
       "std        7.352789      6.396588     13.915018      0.810223      4.234147   \n",
       "min        0.289850    985.850000     27.504000      2.087400     17.878000   \n",
       "25%       11.664500   1008.800000     70.294500      3.449850     22.736000   \n",
       "50%       17.739000   1012.400000     82.781000      4.068800     24.989000   \n",
       "75%       23.657000   1016.700000     90.532000      4.451400     26.839000   \n",
       "max       34.929000   1034.200000    100.200000      7.610600     37.402000   \n",
       "\n",
       "                TIT           TAT           TEY           CDP            CO  \\\n",
       "count  22191.000000  22191.000000  22191.000000  22191.000000  22191.000000   \n",
       "mean    1083.080280    545.520170    133.537393     12.060208      2.214390   \n",
       "std       16.840765      7.708708     16.026107      1.114265      2.295746   \n",
       "min     1000.800000    512.450000    100.170000      9.875400      0.000388   \n",
       "25%     1074.600000    542.600000    124.260000     11.395000      0.995375   \n",
       "50%     1088.100000    549.900000    133.770000     12.001000      1.524200   \n",
       "75%     1095.300000    550.050000    138.645000     12.443500      2.542400   \n",
       "max     1100.800000    550.610000    174.610000     15.081000     44.103000   \n",
       "\n",
       "                NOX  \n",
       "count  22191.000000  \n",
       "mean      68.776529  \n",
       "std       11.036231  \n",
       "min       27.765000  \n",
       "25%       61.548000  \n",
       "50%       67.096000  \n",
       "75%       74.572000  \n",
       "max      119.910000  "
      ]
     },
     "execution_count": 5,
     "metadata": {},
     "output_type": "execute_result"
    }
   ],
   "source": [
    "df.describe()"
   ]
  },
  {
   "cell_type": "markdown",
   "id": "a3665554",
   "metadata": {},
   "source": [
    "# 1.预处理"
   ]
  },
  {
   "cell_type": "markdown",
   "id": "8a9b3c76",
   "metadata": {},
   "source": [
    "## 1.1. 数据中心化和标准化"
   ]
  },
  {
   "cell_type": "code",
   "execution_count": 6,
   "id": "5813bd79",
   "metadata": {},
   "outputs": [],
   "source": [
    "z_scaler = preprocessing.StandardScaler()\n",
    "df_scaled = z_scaler.fit_transform(df)\n",
    "df_scaled = pd.DataFrame(df_scaled)\n",
    "df_scaled.columns = df.columns"
   ]
  },
  {
   "cell_type": "markdown",
   "id": "498b5dc1",
   "metadata": {},
   "source": [
    "## 1.2. 数据类型及分布状况"
   ]
  },
  {
   "cell_type": "code",
   "execution_count": 7,
   "id": "1a00a69f",
   "metadata": {},
   "outputs": [
    {
     "data": {
      "text/plain": [
       "AT      float64\n",
       "AP      float64\n",
       "AH      float64\n",
       "AFDP    float64\n",
       "GTEP    float64\n",
       "TIT     float64\n",
       "TAT     float64\n",
       "TEY     float64\n",
       "CDP     float64\n",
       "CO      float64\n",
       "NOX     float64\n",
       "dtype: object"
      ]
     },
     "execution_count": 7,
     "metadata": {},
     "output_type": "execute_result"
    }
   ],
   "source": [
    "df_scaled.dtypes"
   ]
  },
  {
   "cell_type": "code",
   "execution_count": 8,
   "id": "970a498b",
   "metadata": {},
   "outputs": [
    {
     "data": {
      "image/png": "[encoded data removed]",
      "text/plain": [
       "<Figure size 576x288 with 2 Axes>"
      ]
     },
     "metadata": {
      "needs_background": "light"
     },
     "output_type": "display_data"
    }
   ],
   "source": [
    "#先观察两个响应变量的分布状况\n",
    "fig, axs = plt.subplots(1, 2, figsize=(8,4))\n",
    "\n",
    "plt.subplot(121)\n",
    "#sns.histplot(df[\"CO\"],color='b',ax = axs[0])\n",
    "sns.histplot(df_scaled[\"CO\"],color='b',ax = axs[0])\n",
    "plt.subplot(122)\n",
    "#sns.histplot(df[\"NOX\"],color='r',ax = axs[1])\n",
    "sns.histplot(df_scaled[\"NOX\"],color='r',ax = axs[1])\n",
    "plt.savefig(\"./y_hist.jpg\")"
   ]
  },
  {
   "cell_type": "code",
   "execution_count": 9,
   "id": "d1fb40a2",
   "metadata": {},
   "outputs": [
    {
     "data": {
      "image/png": "[encoded data removed]",
      "text/plain": [
       "<Figure size 576x576 with 9 Axes>"
      ]
     },
     "metadata": {
      "needs_background": "light"
     },
     "output_type": "display_data"
    }
   ],
   "source": [
    "#观察协变量的分布\n",
    "#直方图\n",
    "fig, axs = plt.subplots(3,3,figsize=(8,8))\n",
    "sns.histplot(df_scaled['AT'], ax=axs[0,0])\n",
    "sns.histplot(df_scaled['AP'], ax=axs[0,1])\n",
    "sns.histplot(df_scaled['AH'], ax=axs[0,2])\n",
    "sns.histplot(df_scaled['AFDP'], ax=axs[1,0])\n",
    "sns.histplot(df_scaled['GTEP'], ax=axs[1,1])\n",
    "sns.histplot(df_scaled['TIT'], ax=axs[1,2])\n",
    "sns.histplot(df_scaled['TAT'], ax=axs[2,0])\n",
    "sns.histplot(df_scaled['TEY'], ax=axs[2,1])\n",
    "sns.histplot(df_scaled['CDP'], ax=axs[2,2])\n",
    "plt.tight_layout()\n",
    "plt.savefig(\"./x_hist.jpg\")\n",
    "plt.show()"
   ]
  },
  {
   "cell_type": "markdown",
   "id": "f82cce50",
   "metadata": {},
   "source": [
    "## 1.3.缺省值"
   ]
  },
  {
   "cell_type": "code",
   "execution_count": 10,
   "id": "67354c35",
   "metadata": {},
   "outputs": [
    {
     "data": {
      "text/plain": [
       "AT      0\n",
       "AP      0\n",
       "AH      0\n",
       "AFDP    0\n",
       "GTEP    0\n",
       "TIT     0\n",
       "TAT     0\n",
       "TEY     0\n",
       "CDP     0\n",
       "CO      0\n",
       "NOX     0\n",
       "dtype: int64"
      ]
     },
     "execution_count": 10,
     "metadata": {},
     "output_type": "execute_result"
    }
   ],
   "source": [
    "#找存在缺省值的列\n",
    "df_scaled.isnull().sum()"
   ]
  },
  {
   "cell_type": "markdown",
   "id": "bde984b7",
   "metadata": {},
   "source": [
    "## 1.4.观察各指标的相关系数，画出热力图"
   ]
  },
  {
   "cell_type": "code",
   "execution_count": 11,
   "id": "cb18a063",
   "metadata": {},
   "outputs": [
    {
     "data": {
      "image/png": "[encoded data removed]",
      "text/plain": [
       "<Figure size 432x288 with 2 Axes>"
      ]
     },
     "metadata": {
      "needs_background": "light"
     },
     "output_type": "display_data"
    }
   ],
   "source": [
    "df_scaled_corr=df_scaled.corr()\n",
    "sns.heatmap(df_scaled_corr,annot=True,cmap=\"crest\")\n",
    "plt.title(\"corr_heatmap_scaled\")\n",
    "plt.savefig(\"./corr_heatmap_scaled.png\")"
   ]
  },
  {
   "cell_type": "markdown",
   "id": "a3e2e9ad",
   "metadata": {},
   "source": [
    "从以上热力图可以看出各指标的相关性很高，尤其是机器参数部分，这意味着数据存在很强的多重共线性。\n",
    "\n",
    "接下来选择采用主成分分析的方法对数据进行降维"
   ]
  },
  {
   "cell_type": "markdown",
   "id": "7989e601",
   "metadata": {},
   "source": [
    "## 1.5.主成分分析法降维，减弱多重共线性"
   ]
  },
  {
   "cell_type": "code",
   "execution_count": 12,
   "id": "32350961",
   "metadata": {},
   "outputs": [
    {
     "data": {
      "text/plain": [
       "array([0.80733477, 0.10793863, 0.08064769])"
      ]
     },
     "execution_count": 12,
     "metadata": {},
     "output_type": "execute_result"
    }
   ],
   "source": [
    "#PCA\n",
    "#只对机器参数做PCA，因为环境参数看起来相关性不高\n",
    "#选择前3个主成分使得解释比率达到95%以上\n",
    "\n",
    "X = df_scaled[['AT', 'AP', 'AH', 'AFDP', 'GTEP', 'TIT', 'TAT', 'TEY', 'CDP']]\n",
    "Y = df_scaled[[\"CO\",\"NOX\"]]\n",
    "\n",
    "operational_features_train = X[['AFDP', 'GTEP', 'TIT', 'TAT', 'TEY', 'CDP']]\n",
    "pca3 = PCA(n_components=3, random_state=0)\n",
    "pca = pca3.fit_transform(operational_features_train)\n",
    "pca = pd.DataFrame(pca, columns=['PCA1', 'PCA2', 'PCA3'])\n",
    "#前三个主成分的解释比例\n",
    "pca3.explained_variance_ratio_\n",
    "#pca3.explained_variance_ratio_.sum()"
   ]
  },
  {
   "cell_type": "code",
   "execution_count": 13,
   "id": "a998159f",
   "metadata": {},
   "outputs": [
    {
     "data": {
      "text/html": [
       "<div>\n",
       "<style scoped>\n",
       "    .dataframe tbody tr th:only-of-type {\n",
       "        vertical-align: middle;\n",
       "    }\n",
       "\n",
       "    .dataframe tbody tr th {\n",
       "        vertical-align: top;\n",
       "    }\n",
       "\n",
       "    .dataframe thead th {\n",
       "        text-align: right;\n",
       "    }\n",
       "</style>\n",
       "<table border=\"1\" class=\"dataframe\">\n",
       "  <thead>\n",
       "    <tr style=\"text-align: right;\">\n",
       "      <th></th>\n",
       "      <th>PCA1</th>\n",
       "      <th>PCA2</th>\n",
       "      <th>PCA3</th>\n",
       "    </tr>\n",
       "  </thead>\n",
       "  <tbody>\n",
       "    <tr>\n",
       "      <th>0</th>\n",
       "      <td>-0.487851</td>\n",
       "      <td>-0.430135</td>\n",
       "      <td>-0.571701</td>\n",
       "    </tr>\n",
       "    <tr>\n",
       "      <th>1</th>\n",
       "      <td>-0.507462</td>\n",
       "      <td>-0.449116</td>\n",
       "      <td>-0.576397</td>\n",
       "    </tr>\n",
       "    <tr>\n",
       "      <th>2</th>\n",
       "      <td>-0.422285</td>\n",
       "      <td>-0.478584</td>\n",
       "      <td>-0.600141</td>\n",
       "    </tr>\n",
       "    <tr>\n",
       "      <th>3</th>\n",
       "      <td>-0.453642</td>\n",
       "      <td>-0.477012</td>\n",
       "      <td>-0.591290</td>\n",
       "    </tr>\n",
       "    <tr>\n",
       "      <th>4</th>\n",
       "      <td>-0.503315</td>\n",
       "      <td>-0.439866</td>\n",
       "      <td>-0.565988</td>\n",
       "    </tr>\n",
       "    <tr>\n",
       "      <th>...</th>\n",
       "      <td>...</td>\n",
       "      <td>...</td>\n",
       "      <td>...</td>\n",
       "    </tr>\n",
       "    <tr>\n",
       "      <th>22186</th>\n",
       "      <td>3.996663</td>\n",
       "      <td>1.107329</td>\n",
       "      <td>-0.886034</td>\n",
       "    </tr>\n",
       "    <tr>\n",
       "      <th>22187</th>\n",
       "      <td>3.961056</td>\n",
       "      <td>1.062198</td>\n",
       "      <td>-0.931324</td>\n",
       "    </tr>\n",
       "    <tr>\n",
       "      <th>22188</th>\n",
       "      <td>4.072560</td>\n",
       "      <td>1.156988</td>\n",
       "      <td>-0.901431</td>\n",
       "    </tr>\n",
       "    <tr>\n",
       "      <th>22189</th>\n",
       "      <td>3.934008</td>\n",
       "      <td>1.051559</td>\n",
       "      <td>-0.947338</td>\n",
       "    </tr>\n",
       "    <tr>\n",
       "      <th>22190</th>\n",
       "      <td>3.860948</td>\n",
       "      <td>1.024350</td>\n",
       "      <td>-0.961640</td>\n",
       "    </tr>\n",
       "  </tbody>\n",
       "</table>\n",
       "<p>22191 rows × 3 columns</p>\n",
       "</div>"
      ],
      "text/plain": [
       "           PCA1      PCA2      PCA3\n",
       "0     -0.487851 -0.430135 -0.571701\n",
       "1     -0.507462 -0.449116 -0.576397\n",
       "2     -0.422285 -0.478584 -0.600141\n",
       "3     -0.453642 -0.477012 -0.591290\n",
       "4     -0.503315 -0.439866 -0.565988\n",
       "...         ...       ...       ...\n",
       "22186  3.996663  1.107329 -0.886034\n",
       "22187  3.961056  1.062198 -0.931324\n",
       "22188  4.072560  1.156988 -0.901431\n",
       "22189  3.934008  1.051559 -0.947338\n",
       "22190  3.860948  1.024350 -0.961640\n",
       "\n",
       "[22191 rows x 3 columns]"
      ]
     },
     "execution_count": 13,
     "metadata": {},
     "output_type": "execute_result"
    }
   ],
   "source": [
    "pca"
   ]
  },
  {
   "cell_type": "markdown",
   "id": "3e836467",
   "metadata": {},
   "source": [
    "## 1.6.观察处理后的数据的相关性"
   ]
  },
  {
   "cell_type": "code",
   "execution_count": 14,
   "id": "b541a5fa",
   "metadata": {},
   "outputs": [],
   "source": [
    "#将处理后的数据合并成一个dataframe\n",
    "df_preprocessed = pd.concat([X[[\"AT\",\"AP\",\"AH\"]],pca,Y],axis=1)\n",
    "#df_preprocessed"
   ]
  },
  {
   "cell_type": "code",
   "execution_count": 15,
   "id": "cf295bd9",
   "metadata": {},
   "outputs": [
    {
     "data": {
      "image/png": "[encoded data removed]",
      "text/plain": [
       "<Figure size 432x288 with 2 Axes>"
      ]
     },
     "metadata": {
      "needs_background": "light"
     },
     "output_type": "display_data"
    }
   ],
   "source": [
    "df_preprocessed_corr=df_preprocessed.corr()\n",
    "sns.heatmap(df_preprocessed_corr,annot=True,cmap=\"crest\")\n",
    "plt.title(\"corr_heatmap_preprocessed\")\n",
    "plt.savefig(\"./corr_heatmap_preprocessed.png\")"
   ]
  },
  {
   "cell_type": "markdown",
   "id": "c1256d26",
   "metadata": {},
   "source": [
    "# 2.模型拟合\n",
    "主要分为多元线性回归和岭回归两种模型选择"
   ]
  },
  {
   "cell_type": "code",
   "execution_count": 16,
   "id": "188f28a6",
   "metadata": {},
   "outputs": [],
   "source": [
    "#定义一个类来完成两种模型的数据分析\n",
    "class model_fit():\n",
    "    def __init__(self,data,y_label):\n",
    "        #若输入的y_label不是data中的某个列名，则引发异常\n",
    "        try:\n",
    "            tmp = data[y_label]\n",
    "        #若出现以上异常则输出如下语句\n",
    "        except KeyError:\n",
    "            print(\"y_lable must be a column name of data!\")\n",
    "        self.data = data\n",
    "        self.x = self.data.drop([\"CO\",\"NOX\"],axis = 1,inplace = False)\n",
    "        #y_label表示响应变量的指标名称\n",
    "        self.y = data[y_label]\n",
    "        \n",
    "        \n",
    "    ##多元线性回归部分\n",
    "    ###用OLS拟合多元线性回归模型\n",
    "    def linear_regression(self):\n",
    "        #给协变量加上一个常数项\n",
    "        x = sm.add_constant(self.x)\n",
    "        y = self.y\n",
    "        model = sm.OLS(y,x)\n",
    "        return(model)\n",
    "    ###获取多元线性回归模型的result\n",
    "    def linear_result(self):\n",
    "        return(self.linear_regression().fit())\n",
    "    \n",
    "    \n",
    "    ##岭回归部分\n",
    "    ###给定岭回归参数的情况下拟合岭回归模型\n",
    "    def ridge_regression(self,ridge_alpha):\n",
    "        #若岭参数不为正数则引发异常\n",
    "        try:\n",
    "            #设置一个对数函数来判断alpha是否为正数\n",
    "            tmp = math.log10(ridge_alpha)\n",
    "            #若出现以上异常则输出如下语句\n",
    "        except ValueError:\n",
    "            print(\"ridge_alpha must be positive!\")\n",
    "        model = Ridge(alpha = ridge_alpha)\n",
    "        return(model)\n",
    "    ###获取岭回归模型的结果\n",
    "    def ridge_result(self,ridge_alpha):\n",
    "        return(self.ridge_regression(ridge_alpha).fit(self.x,self.y))\n",
    "    ###将数据集分成10份做交叉验证，求出平均交叉验证分数(这里scoring=\"r2\"是指用R-squared作为交叉验证分数)\n",
    "    def score(self,ridge_alpha):\n",
    "        score = cross_val_score(self.ridge_regression(ridge_alpha),self.x,self.y,cv=10,scoring = \"r2\").mean()\n",
    "        return(score)"
   ]
  },
  {
   "cell_type": "markdown",
   "id": "d27c0d28",
   "metadata": {},
   "source": [
    "## 2.1.多元线性回归"
   ]
  },
  {
   "cell_type": "markdown",
   "id": "2e0164e5",
   "metadata": {},
   "source": [
    "### 2.1.1.响应变量为CO"
   ]
  },
  {
   "cell_type": "code",
   "execution_count": 17,
   "id": "f76a8b9a",
   "metadata": {},
   "outputs": [
    {
     "data": {
      "text/html": [
       "<table class=\"simpletable\">\n",
       "<caption>OLS Regression Results</caption>\n",
       "<tr>\n",
       "  <th>Dep. Variable:</th>           <td>CO</td>        <th>  R-squared:         </th> <td>   0.573</td> \n",
       "</tr>\n",
       "<tr>\n",
       "  <th>Model:</th>                   <td>OLS</td>       <th>  Adj. R-squared:    </th> <td>   0.573</td> \n",
       "</tr>\n",
       "<tr>\n",
       "  <th>Method:</th>             <td>Least Squares</td>  <th>  F-statistic:       </th> <td>   4961.</td> \n",
       "</tr>\n",
       "<tr>\n",
       "  <th>Date:</th>             <td>Fri, 13 Jan 2023</td> <th>  Prob (F-statistic):</th>  <td>  0.00</td>  \n",
       "</tr>\n",
       "<tr>\n",
       "  <th>Time:</th>                 <td>21:22:56</td>     <th>  Log-Likelihood:    </th> <td> -22046.</td> \n",
       "</tr>\n",
       "<tr>\n",
       "  <th>No. Observations:</th>      <td> 22191</td>      <th>  AIC:               </th> <td>4.411e+04</td>\n",
       "</tr>\n",
       "<tr>\n",
       "  <th>Df Residuals:</th>          <td> 22184</td>      <th>  BIC:               </th> <td>4.416e+04</td>\n",
       "</tr>\n",
       "<tr>\n",
       "  <th>Df Model:</th>              <td>     6</td>      <th>                     </th>     <td> </td>    \n",
       "</tr>\n",
       "<tr>\n",
       "  <th>Covariance Type:</th>      <td>nonrobust</td>    <th>                     </th>     <td> </td>    \n",
       "</tr>\n",
       "</table>\n",
       "<table class=\"simpletable\">\n",
       "<tr>\n",
       "    <td></td>       <th>coef</th>     <th>std err</th>      <th>t</th>      <th>P>|t|</th>  <th>[0.025</th>    <th>0.975]</th>  \n",
       "</tr>\n",
       "<tr>\n",
       "  <th>const</th> <td> 4.398e-16</td> <td>    0.004</td> <td>    1e-13</td> <td> 1.000</td> <td>   -0.009</td> <td>    0.009</td>\n",
       "</tr>\n",
       "<tr>\n",
       "  <th>AT</th>    <td>    0.0617</td> <td>    0.006</td> <td>    9.587</td> <td> 0.000</td> <td>    0.049</td> <td>    0.074</td>\n",
       "</tr>\n",
       "<tr>\n",
       "  <th>AP</th>    <td>    0.0077</td> <td>    0.005</td> <td>    1.596</td> <td> 0.111</td> <td>   -0.002</td> <td>    0.017</td>\n",
       "</tr>\n",
       "<tr>\n",
       "  <th>AH</th>    <td>    0.0387</td> <td>    0.006</td> <td>    6.834</td> <td> 0.000</td> <td>    0.028</td> <td>    0.050</td>\n",
       "</tr>\n",
       "<tr>\n",
       "  <th>PCA1</th>  <td>   -0.2491</td> <td>    0.002</td> <td> -118.903</td> <td> 0.000</td> <td>   -0.253</td> <td>   -0.245</td>\n",
       "</tr>\n",
       "<tr>\n",
       "  <th>PCA2</th>  <td>    0.6177</td> <td>    0.006</td> <td>  101.284</td> <td> 0.000</td> <td>    0.606</td> <td>    0.630</td>\n",
       "</tr>\n",
       "<tr>\n",
       "  <th>PCA3</th>  <td>    0.2325</td> <td>    0.006</td> <td>   36.324</td> <td> 0.000</td> <td>    0.220</td> <td>    0.245</td>\n",
       "</tr>\n",
       "</table>\n",
       "<table class=\"simpletable\">\n",
       "<tr>\n",
       "  <th>Omnibus:</th>       <td>31384.164</td> <th>  Durbin-Watson:     </th>   <td>   0.984</td>  \n",
       "</tr>\n",
       "<tr>\n",
       "  <th>Prob(Omnibus):</th>  <td> 0.000</td>   <th>  Jarque-Bera (JB):  </th> <td>20201926.426</td>\n",
       "</tr>\n",
       "<tr>\n",
       "  <th>Skew:</th>           <td> 8.096</td>   <th>  Prob(JB):          </th>   <td>    0.00</td>  \n",
       "</tr>\n",
       "<tr>\n",
       "  <th>Kurtosis:</th>       <td>149.924</td>  <th>  Cond. No.          </th>   <td>    4.18</td>  \n",
       "</tr>\n",
       "</table><br/><br/>Notes:<br/>[1] Standard Errors assume that the covariance matrix of the errors is correctly specified."
      ],
      "text/plain": [
       "<class 'statsmodels.iolib.summary.Summary'>\n",
       "\"\"\"\n",
       "                            OLS Regression Results                            \n",
       "==============================================================================\n",
       "Dep. Variable:                     CO   R-squared:                       0.573\n",
       "Model:                            OLS   Adj. R-squared:                  0.573\n",
       "Method:                 Least Squares   F-statistic:                     4961.\n",
       "Date:                Fri, 13 Jan 2023   Prob (F-statistic):               0.00\n",
       "Time:                        21:22:56   Log-Likelihood:                -22046.\n",
       "No. Observations:               22191   AIC:                         4.411e+04\n",
       "Df Residuals:                   22184   BIC:                         4.416e+04\n",
       "Df Model:                           6                                         \n",
       "Covariance Type:            nonrobust                                         \n",
       "==============================================================================\n",
       "                 coef    std err          t      P>|t|      [0.025      0.975]\n",
       "------------------------------------------------------------------------------\n",
       "const       4.398e-16      0.004      1e-13      1.000      -0.009       0.009\n",
       "AT             0.0617      0.006      9.587      0.000       0.049       0.074\n",
       "AP             0.0077      0.005      1.596      0.111      -0.002       0.017\n",
       "AH             0.0387      0.006      6.834      0.000       0.028       0.050\n",
       "PCA1          -0.2491      0.002   -118.903      0.000      -0.253      -0.245\n",
       "PCA2           0.6177      0.006    101.284      0.000       0.606       0.630\n",
       "PCA3           0.2325      0.006     36.324      0.000       0.220       0.245\n",
       "==============================================================================\n",
       "Omnibus:                    31384.164   Durbin-Watson:                   0.984\n",
       "Prob(Omnibus):                  0.000   Jarque-Bera (JB):         20201926.426\n",
       "Skew:                           8.096   Prob(JB):                         0.00\n",
       "Kurtosis:                     149.924   Cond. No.                         4.18\n",
       "==============================================================================\n",
       "\n",
       "Notes:\n",
       "[1] Standard Errors assume that the covariance matrix of the errors is correctly specified.\n",
       "\"\"\""
      ]
     },
     "execution_count": 17,
     "metadata": {},
     "output_type": "execute_result"
    }
   ],
   "source": [
    "#多元线性回归\n",
    "##CO\n",
    "###实例化model_fit类\n",
    "reg_CO = model_fit(data = df_preprocessed,y_label = \"CO\")\n",
    "result = reg_CO.linear_result()\n",
    "result.summary()"
   ]
  },
  {
   "cell_type": "markdown",
   "id": "f5a93e17",
   "metadata": {},
   "source": [
    "### 2.1.2.响应变量为NOX"
   ]
  },
  {
   "cell_type": "code",
   "execution_count": 18,
   "id": "cebf080f",
   "metadata": {},
   "outputs": [
    {
     "data": {
      "text/html": [
       "<table class=\"simpletable\">\n",
       "<caption>OLS Regression Results</caption>\n",
       "<tr>\n",
       "  <th>Dep. Variable:</th>           <td>NOX</td>       <th>  R-squared:         </th> <td>   0.454</td> \n",
       "</tr>\n",
       "<tr>\n",
       "  <th>Model:</th>                   <td>OLS</td>       <th>  Adj. R-squared:    </th> <td>   0.453</td> \n",
       "</tr>\n",
       "<tr>\n",
       "  <th>Method:</th>             <td>Least Squares</td>  <th>  F-statistic:       </th> <td>   3068.</td> \n",
       "</tr>\n",
       "<tr>\n",
       "  <th>Date:</th>             <td>Fri, 13 Jan 2023</td> <th>  Prob (F-statistic):</th>  <td>  0.00</td>  \n",
       "</tr>\n",
       "<tr>\n",
       "  <th>Time:</th>                 <td>21:22:56</td>     <th>  Log-Likelihood:    </th> <td> -24783.</td> \n",
       "</tr>\n",
       "<tr>\n",
       "  <th>No. Observations:</th>      <td> 22191</td>      <th>  AIC:               </th> <td>4.958e+04</td>\n",
       "</tr>\n",
       "<tr>\n",
       "  <th>Df Residuals:</th>          <td> 22184</td>      <th>  BIC:               </th> <td>4.964e+04</td>\n",
       "</tr>\n",
       "<tr>\n",
       "  <th>Df Model:</th>              <td>     6</td>      <th>                     </th>     <td> </td>    \n",
       "</tr>\n",
       "<tr>\n",
       "  <th>Covariance Type:</th>      <td>nonrobust</td>    <th>                     </th>     <td> </td>    \n",
       "</tr>\n",
       "</table>\n",
       "<table class=\"simpletable\">\n",
       "<tr>\n",
       "    <td></td>       <th>coef</th>     <th>std err</th>      <th>t</th>      <th>P>|t|</th>  <th>[0.025</th>    <th>0.975]</th>  \n",
       "</tr>\n",
       "<tr>\n",
       "  <th>const</th> <td>-3.525e-16</td> <td>    0.005</td> <td> -7.1e-14</td> <td> 1.000</td> <td>   -0.010</td> <td>    0.010</td>\n",
       "</tr>\n",
       "<tr>\n",
       "  <th>AT</th>    <td>   -0.8603</td> <td>    0.007</td> <td> -118.217</td> <td> 0.000</td> <td>   -0.875</td> <td>   -0.846</td>\n",
       "</tr>\n",
       "<tr>\n",
       "  <th>AP</th>    <td>   -0.0564</td> <td>    0.005</td> <td>  -10.306</td> <td> 0.000</td> <td>   -0.067</td> <td>   -0.046</td>\n",
       "</tr>\n",
       "<tr>\n",
       "  <th>AH</th>    <td>   -0.3552</td> <td>    0.006</td> <td>  -55.382</td> <td> 0.000</td> <td>   -0.368</td> <td>   -0.343</td>\n",
       "</tr>\n",
       "<tr>\n",
       "  <th>PCA1</th>  <td>   -0.1133</td> <td>    0.002</td> <td>  -47.780</td> <td> 0.000</td> <td>   -0.118</td> <td>   -0.109</td>\n",
       "</tr>\n",
       "<tr>\n",
       "  <th>PCA2</th>  <td>   -0.0793</td> <td>    0.007</td> <td>  -11.488</td> <td> 0.000</td> <td>   -0.093</td> <td>   -0.066</td>\n",
       "</tr>\n",
       "<tr>\n",
       "  <th>PCA3</th>  <td>    0.0193</td> <td>    0.007</td> <td>    2.671</td> <td> 0.008</td> <td>    0.005</td> <td>    0.034</td>\n",
       "</tr>\n",
       "</table>\n",
       "<table class=\"simpletable\">\n",
       "<tr>\n",
       "  <th>Omnibus:</th>       <td>4712.155</td> <th>  Durbin-Watson:     </th> <td>   0.421</td> \n",
       "</tr>\n",
       "<tr>\n",
       "  <th>Prob(Omnibus):</th>  <td> 0.000</td>  <th>  Jarque-Bera (JB):  </th> <td>16694.211</td>\n",
       "</tr>\n",
       "<tr>\n",
       "  <th>Skew:</th>           <td> 1.047</td>  <th>  Prob(JB):          </th> <td>    0.00</td> \n",
       "</tr>\n",
       "<tr>\n",
       "  <th>Kurtosis:</th>       <td> 6.697</td>  <th>  Cond. No.          </th> <td>    4.18</td> \n",
       "</tr>\n",
       "</table><br/><br/>Notes:<br/>[1] Standard Errors assume that the covariance matrix of the errors is correctly specified."
      ],
      "text/plain": [
       "<class 'statsmodels.iolib.summary.Summary'>\n",
       "\"\"\"\n",
       "                            OLS Regression Results                            \n",
       "==============================================================================\n",
       "Dep. Variable:                    NOX   R-squared:                       0.454\n",
       "Model:                            OLS   Adj. R-squared:                  0.453\n",
       "Method:                 Least Squares   F-statistic:                     3068.\n",
       "Date:                Fri, 13 Jan 2023   Prob (F-statistic):               0.00\n",
       "Time:                        21:22:56   Log-Likelihood:                -24783.\n",
       "No. Observations:               22191   AIC:                         4.958e+04\n",
       "Df Residuals:                   22184   BIC:                         4.964e+04\n",
       "Df Model:                           6                                         \n",
       "Covariance Type:            nonrobust                                         \n",
       "==============================================================================\n",
       "                 coef    std err          t      P>|t|      [0.025      0.975]\n",
       "------------------------------------------------------------------------------\n",
       "const      -3.525e-16      0.005   -7.1e-14      1.000      -0.010       0.010\n",
       "AT            -0.8603      0.007   -118.217      0.000      -0.875      -0.846\n",
       "AP            -0.0564      0.005    -10.306      0.000      -0.067      -0.046\n",
       "AH            -0.3552      0.006    -55.382      0.000      -0.368      -0.343\n",
       "PCA1          -0.1133      0.002    -47.780      0.000      -0.118      -0.109\n",
       "PCA2          -0.0793      0.007    -11.488      0.000      -0.093      -0.066\n",
       "PCA3           0.0193      0.007      2.671      0.008       0.005       0.034\n",
       "==============================================================================\n",
       "Omnibus:                     4712.155   Durbin-Watson:                   0.421\n",
       "Prob(Omnibus):                  0.000   Jarque-Bera (JB):            16694.211\n",
       "Skew:                           1.047   Prob(JB):                         0.00\n",
       "Kurtosis:                       6.697   Cond. No.                         4.18\n",
       "==============================================================================\n",
       "\n",
       "Notes:\n",
       "[1] Standard Errors assume that the covariance matrix of the errors is correctly specified.\n",
       "\"\"\""
      ]
     },
     "execution_count": 18,
     "metadata": {},
     "output_type": "execute_result"
    }
   ],
   "source": [
    "#多元线性回归\n",
    "##NOX\n",
    "###实例化model_fit类\n",
    "reg_NOX = model_fit(data = df_preprocessed,y_label = \"NOX\")\n",
    "result = reg_NOX.linear_result()\n",
    "result.summary()"
   ]
  },
  {
   "cell_type": "markdown",
   "id": "a7680de4",
   "metadata": {},
   "source": [
    "## 2.2.岭回归"
   ]
  },
  {
   "cell_type": "markdown",
   "id": "4742e4c5",
   "metadata": {},
   "source": [
    "岭回归和PCA都是适用于多重共线性的情况，所以这里岭回归选择用未经PCA处理之前的数据df_scaled来拟合模型"
   ]
  },
  {
   "cell_type": "markdown",
   "id": "22e013da",
   "metadata": {},
   "source": [
    "### 2.2.1.响应变量为CO"
   ]
  },
  {
   "cell_type": "code",
   "execution_count": 19,
   "id": "7d4577e1",
   "metadata": {},
   "outputs": [
    {
     "name": "stdout",
     "output_type": "stream",
     "text": [
      "best_alpha is 1671.9497597319883\n",
      "best_mean_CV_score is 0.38519294852846103\n"
     ]
    }
   ],
   "source": [
    "#这里选择用未经PCA处理之前的数据来拟合模型\n",
    "reg_CO_ridge = model_fit(data = df_scaled,y_label = \"CO\")\n",
    "#岭参数选择\n",
    "alpha_range = np.logspace(-4,4,1000)#岭回归参数的取值范围\n",
    "cv_score = []#交叉验证分数\n",
    "\n",
    "#将每一个岭参数的交叉验证分数放入cv_score列表中\n",
    "for a in alpha_range:\n",
    "    cv_score.append(reg_CO_ridge.score(ridge_alpha = a))\n",
    "\n",
    "best_alpha_CO = alpha_range[cv_score.index(max(cv_score))]#找到最佳的alpha\n",
    "print(\"best_alpha is\", best_alpha_CO)\n",
    "print(\"best_mean_CV_score is\", max(cv_score))"
   ]
  },
  {
   "cell_type": "code",
   "execution_count": 20,
   "id": "16894ede",
   "metadata": {},
   "outputs": [
    {
     "data": {
      "image/png": "[encoded data removed]",
      "text/plain": [
       "<Figure size 288x216 with 1 Axes>"
      ]
     },
     "metadata": {
      "needs_background": "light"
     },
     "output_type": "display_data"
    }
   ],
   "source": [
    "#画出交叉验证分数-岭参数的关系图\n",
    "plt.figure(figsize = (4,3))\n",
    "plt.xlabel('ridge_alpha')\n",
    "plt.ylabel(\"CV_score\")\n",
    "plt.title(\"CV_score-ridge_alpha(CO)\")\n",
    "plt.plot(alpha_range, cv_score)\n",
    "plt.savefig(\"./ridge_CO.jpg\")"
   ]
  },
  {
   "cell_type": "code",
   "execution_count": 21,
   "id": "3d1dcc12",
   "metadata": {},
   "outputs": [
    {
     "name": "stdout",
     "output_type": "stream",
     "text": [
      "[ 0.02184812  0.0044699   0.03169053 -0.02851421 -0.102939   -0.42392459\n",
      " -0.37811683 -0.2244173  -0.11066731]\n"
     ]
    },
    {
     "data": {
      "text/plain": [
       "2.8895891653066293e-15"
      ]
     },
     "execution_count": 21,
     "metadata": {},
     "output_type": "execute_result"
    }
   ],
   "source": [
    "#模型的系数以及截距项\n",
    "print(reg_CO_ridge.ridge_result(best_alpha_CO).coef_)\n",
    "reg_CO_ridge.ridge_result(best_alpha_CO).intercept_"
   ]
  },
  {
   "cell_type": "markdown",
   "id": "8044d02a",
   "metadata": {},
   "source": [
    "### 2.2.2.响应变量为NOX"
   ]
  },
  {
   "cell_type": "code",
   "execution_count": 22,
   "id": "3906327f",
   "metadata": {},
   "outputs": [
    {
     "name": "stdout",
     "output_type": "stream",
     "text": [
      "best_alpha is 11.969557023590427\n",
      "best_mean_CV_score is 0.12346738437500818\n"
     ]
    }
   ],
   "source": [
    "#这里选择用未经PCA处理之前的数据来拟合模型\n",
    "reg_NOX_ridge = model_fit(data = df_scaled,y_label = \"NOX\")\n",
    "#岭参数选择\n",
    "alpha_range = np.logspace(-1,2,1000)#岭回归参数的取值范围\n",
    "cv_score = []#交叉验证分数\n",
    "\n",
    "#将每一个岭参数的交叉验证分数放入cv_score列表中\n",
    "for a in alpha_range:\n",
    "    cv_score.append(reg_NOX_ridge.score(ridge_alpha = a))\n",
    "\n",
    "best_alpha_NOX = alpha_range[cv_score.index(max(cv_score))]#找到最佳的alpha\n",
    "print(\"best_alpha is\", best_alpha_NOX)\n",
    "print(\"best_mean_CV_score is\", max(cv_score))"
   ]
  },
  {
   "cell_type": "code",
   "execution_count": 23,
   "id": "d89497d2",
   "metadata": {
    "scrolled": true
   },
   "outputs": [
    {
     "data": {
      "image/png": "[encoded data removed]",
      "text/plain": [
       "<Figure size 288x216 with 1 Axes>"
      ]
     },
     "metadata": {
      "needs_background": "light"
     },
     "output_type": "display_data"
    }
   ],
   "source": [
    "#画出交叉验证分数-岭参数的关系图\n",
    "plt.figure(figsize = (4,3))\n",
    "plt.xlabel('ridge_alpha')\n",
    "plt.ylabel(\"CV_score\")\n",
    "plt.title(\"CV_score-ridge_alpha(NOX)\")\n",
    "plt.plot(alpha_range, cv_score)\n",
    "plt.savefig(\"./ridge_NOX.jpg\")"
   ]
  },
  {
   "cell_type": "code",
   "execution_count": 24,
   "id": "46e6d69c",
   "metadata": {},
   "outputs": [
    {
     "name": "stdout",
     "output_type": "stream",
     "text": [
      "[-1.24818505 -0.10043329 -0.36091644 -0.01477388  0.4721321   0.96268036\n",
      " -0.19501873 -2.4713413   0.70069925]\n"
     ]
    },
    {
     "data": {
      "text/plain": [
       "-1.1160110391124894e-14"
      ]
     },
     "execution_count": 24,
     "metadata": {},
     "output_type": "execute_result"
    }
   ],
   "source": [
    "#模型的系数以及截距项\n",
    "print(reg_NOX_ridge.ridge_result(best_alpha_NOX).coef_)\n",
    "reg_NOX_ridge.ridge_result(best_alpha_NOX).intercept_"
   ]
  },
  {
   "cell_type": "markdown",
   "id": "abc5e697",
   "metadata": {},
   "source": [
    "# 3.在验证集上比较模型的预测误差"
   ]
  },
  {
   "cell_type": "markdown",
   "id": "03de1819",
   "metadata": {},
   "source": [
    "## 3.1.验证集数据预处理"
   ]
  },
  {
   "cell_type": "code",
   "execution_count": 25,
   "id": "3fa1cbf0",
   "metadata": {},
   "outputs": [],
   "source": [
    "#将验证集的数据做中心化和标准化\n",
    "df_validation_scaled = z_scaler.fit_transform(df_validation)\n",
    "df_validation_scaled = pd.DataFrame(df_validation_scaled)\n",
    "df_validation_scaled.columns = df_validation.columns\n",
    "\n",
    "#计算验证集的三个主成分\n",
    "pca_validation = pca3.fit_transform(df_validation_scaled[['AFDP', 'GTEP', 'TIT', 'TAT', 'TEY', 'CDP']])\n",
    "pca_validation = pd.DataFrame(pca_validation, columns=['PCA1', 'PCA2', 'PCA3'])\n",
    "#合并成经过scaled和preprocessed的验证集\n",
    "df_validation_preprocessed =  pd.concat([df_validation_scaled[[\"AT\",\"AP\",\"AH\"]],pca_validation,df_validation_scaled[[\"CO\",\"NOX\"]]],axis=1)"
   ]
  },
  {
   "cell_type": "code",
   "execution_count": 26,
   "id": "24492e34",
   "metadata": {},
   "outputs": [],
   "source": [
    "#将所有预处理之后的数据保存成csv文件\n",
    "data_preprocessed = pd.concat([df_preprocessed,df_validation_preprocessed],ignore_index = True,axis = 0)\n",
    "data_preprocessed.to_csv(\"data_preprocessed.csv\")"
   ]
  },
  {
   "cell_type": "markdown",
   "id": "8ee6590b",
   "metadata": {},
   "source": [
    "## 3.2.计算各模型的预测误差"
   ]
  },
  {
   "cell_type": "code",
   "execution_count": 27,
   "id": "b7618cf9",
   "metadata": {},
   "outputs": [],
   "source": [
    "#定义一个predict_error类,用于计算预测误差\n",
    "class predict_error():\n",
    "    def __init__(self,model_result,data,y_label):\n",
    "        #若输入的y_label不是data中的某个列名，则引发异常\n",
    "        try:\n",
    "            tmp = data[y_label]\n",
    "        #若出现以上异常则输出如下语句\n",
    "        except KeyError:\n",
    "            print(\"y_lable must be a column name of data!\")\n",
    "        self.result = model_result\n",
    "        self.data = data\n",
    "        self.x = self.data.drop([\"CO\",\"NOX\"],axis = 1,inplace = False)\n",
    "        #y_label是\"CO\"或者\"NOX\"\n",
    "        self.y = self.data[y_label]\n",
    "       \n",
    "    #多元线性回归部分\n",
    "    ##多元线性回归模型的预测值\n",
    "    def linear_predict(self):\n",
    "        y_predict = self.result.predict(sm.add_constant(self.x))\n",
    "        return(y_predict)\n",
    "    ##用绝对误差的均值来计算预测误差\n",
    "    def linear_predict_error(self):\n",
    "        return(mean_absolute_error(self.y, self.linear_predict()))\n",
    "    \n",
    "    #岭回归部分\n",
    "    ##岭回归模型的预测值\n",
    "    def ridge_predict(self):\n",
    "        y_predict = self.result.predict(self.x)\n",
    "        return(y_predict)\n",
    "    ##用绝对误差的均值来计算预测误差\n",
    "    def ridge_predict_error(self):\n",
    "        return(mean_absolute_error(self.y, self.ridge_predict()))"
   ]
  },
  {
   "cell_type": "markdown",
   "id": "ddd34965",
   "metadata": {},
   "source": [
    "## 3.3.计算结果"
   ]
  },
  {
   "cell_type": "markdown",
   "id": "71c39841",
   "metadata": {},
   "source": [
    "### 3.3.1.多元线性回归(CO)"
   ]
  },
  {
   "cell_type": "code",
   "execution_count": 28,
   "id": "227706ae",
   "metadata": {},
   "outputs": [
    {
     "data": {
      "text/plain": [
       "0.3943245742671696"
      ]
     },
     "execution_count": 28,
     "metadata": {},
     "output_type": "execute_result"
    }
   ],
   "source": [
    "#实例化predict_error类\n",
    "linear_error_CO = predict_error(reg_CO.linear_result(),data = df_validation_preprocessed,y_label = \"CO\")\n",
    "linear_error_CO.linear_predict_error()"
   ]
  },
  {
   "cell_type": "markdown",
   "id": "9f1ae4f1",
   "metadata": {},
   "source": [
    "### 3.3.2.多元线性回归(NOX)"
   ]
  },
  {
   "cell_type": "code",
   "execution_count": 29,
   "id": "69f9f27b",
   "metadata": {},
   "outputs": [
    {
     "data": {
      "text/plain": [
       "0.5378170243746104"
      ]
     },
     "execution_count": 29,
     "metadata": {},
     "output_type": "execute_result"
    }
   ],
   "source": [
    "#实例化predict_error类\n",
    "linear_error_NOX = predict_error(reg_NOX.linear_result(),data = df_validation_preprocessed,y_label = \"NOX\")\n",
    "linear_error_NOX.linear_predict_error()"
   ]
  },
  {
   "cell_type": "markdown",
   "id": "399b4697",
   "metadata": {},
   "source": [
    "### 3.3.3.岭回归(CO)"
   ]
  },
  {
   "cell_type": "code",
   "execution_count": 30,
   "id": "314dc661",
   "metadata": {},
   "outputs": [
    {
     "data": {
      "text/plain": [
       "0.40931793295931307"
      ]
     },
     "execution_count": 30,
     "metadata": {},
     "output_type": "execute_result"
    }
   ],
   "source": [
    "#实例化predict_error类，用之前交叉验证选择的best_alpha_CO做岭参数\n",
    "#注意这里的data是未经pca处理的\n",
    "ridge_error_CO = predict_error(reg_CO_ridge.ridge_result(best_alpha_CO),data = df_validation_scaled,y_label = \"CO\")\n",
    "ridge_error_CO.ridge_predict_error()"
   ]
  },
  {
   "cell_type": "markdown",
   "id": "2029ef2c",
   "metadata": {},
   "source": [
    "### 3.3.4.岭回归(NOX)"
   ]
  },
  {
   "cell_type": "code",
   "execution_count": 31,
   "id": "5e68d325",
   "metadata": {},
   "outputs": [
    {
     "data": {
      "text/plain": [
       "0.5718432771895733"
      ]
     },
     "execution_count": 31,
     "metadata": {},
     "output_type": "execute_result"
    }
   ],
   "source": [
    "#实例化predict_error类，用之前交叉验证选择的best_alpha_NOX做岭参数\n",
    "#注意这里的data是未经pca处理的\n",
    "ridge_error_NOX = predict_error(reg_NOX_ridge.ridge_result(best_alpha_NOX),data = df_validation_scaled,y_label = \"NOX\")\n",
    "ridge_error_NOX.ridge_predict_error()"
   ]
  }
 ],
 "metadata": {
  "kernelspec": {
   "display_name": "Python 3 (ipykernel)",
   "language": "python",
   "name": "python3"
  },
  "language_info": {
   "codemirror_mode": {
    "name": "ipython",
    "version": 3
   },
   "file_extension": ".py",
   "mimetype": "text/x-python",
   "name": "python",
   "nbconvert_exporter": "python",
   "pygments_lexer": "ipython3",
   "version": "3.9.12"
  }
 },
 "nbformat": 4,
 "nbformat_minor": 5
}
